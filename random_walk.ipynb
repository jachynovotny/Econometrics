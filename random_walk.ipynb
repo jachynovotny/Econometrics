{
 "cells": [
  {
   "cell_type": "markdown",
   "id": "4b99d63f",
   "metadata": {},
   "source": [
    "# Test for a random walk (CE currencies)"
   ]
  },
  {
   "cell_type": "markdown",
   "id": "29ba5144",
   "metadata": {},
   "source": [
    "This notebook shows a random walk tests on the example of the EURCZK, EURPLN and EURHUF exchange rate. This test is performed first intuitively using linear regression and then numerically using the ADF test. "
   ]
  },
  {
   "cell_type": "code",
   "execution_count": 1,
   "id": "5d73406b",
   "metadata": {},
   "outputs": [],
   "source": [
    "from datetime import datetime\n",
    "from datetime import date, timedelta\n",
    "import pandas as pd\n",
    "import yfinance as yf\n",
    "import numpy as np\n",
    "import pandas as pd\n",
    "import statsmodels.api as sm\n",
    "from statsmodels.tsa.stattools import adfuller"
   ]
  },
  {
   "cell_type": "code",
   "execution_count": 2,
   "id": "cf4e8870",
   "metadata": {},
   "outputs": [],
   "source": [
    "#The analysis will be based on historical data of last two years (365*2 days)\n",
    "\n",
    "start_date = (date.today()-timedelta(days=(365*2))).isoformat() "
   ]
  },
  {
   "cell_type": "markdown",
   "id": "68b93ea3",
   "metadata": {},
   "source": [
    "## EURCZK "
   ]
  },
  {
   "cell_type": "code",
   "execution_count": 3,
   "id": "13f5c04c",
   "metadata": {},
   "outputs": [
    {
     "name": "stdout",
     "output_type": "stream",
     "text": [
      "[*********************100%***********************]  1 of 1 completed\n"
     ]
    }
   ],
   "source": [
    "#This part is downloading from yfinance\n",
    "\n",
    "yfinance_ticker = 'EURCZK=X'\n",
    "\n",
    "eurczk=yf.download(yfinance_ticker, start=start_date)"
   ]
  },
  {
   "cell_type": "markdown",
   "id": "3271128f",
   "metadata": {},
   "source": [
    "This section intuitively tests a random walk using linear regression. The tested equation is: "
   ]
  },
  {
   "cell_type": "markdown",
   "id": "ffa3d4d8",
   "metadata": {},
   "source": [
    "$${EURCZK}_{(t)}-{EURCZK}_{(t-1)} = {const}+{coef}*{EURCZK}_{(t-1)}+{noise}$$"
   ]
  },
  {
   "cell_type": "markdown",
   "id": "07c6fb2e",
   "metadata": {},
   "source": [
    "If the time series meets the conditions of a random walk, then the coef value should be close to zero. "
   ]
  },
  {
   "cell_type": "code",
   "execution_count": 4,
   "id": "c18fd216",
   "metadata": {},
   "outputs": [
    {
     "name": "stdout",
     "output_type": "stream",
     "text": [
      "                            OLS Regression Results                            \n",
      "==============================================================================\n",
      "Dep. Variable:            eurczk_diff   R-squared:                       0.006\n",
      "Model:                            OLS   Adj. R-squared:                  0.004\n",
      "Method:                 Least Squares   F-statistic:                     3.069\n",
      "Date:                Sun, 31 Oct 2021   Prob (F-statistic):             0.0804\n",
      "Time:                        22:33:59   Log-Likelihood:                 409.25\n",
      "No. Observations:                 520   AIC:                            -814.5\n",
      "Df Residuals:                     518   BIC:                            -806.0\n",
      "Df Model:                           1                                         \n",
      "Covariance Type:            nonrobust                                         \n",
      "================================================================================\n",
      "                   coef    std err          t      P>|t|      [0.025      0.975]\n",
      "--------------------------------------------------------------------------------\n",
      "const            0.3163      0.181      1.749      0.081      -0.039       0.672\n",
      "eurczk_shift    -0.0122      0.007     -1.752      0.080      -0.026       0.001\n",
      "==============================================================================\n",
      "Omnibus:                      236.205   Durbin-Watson:                   2.206\n",
      "Prob(Omnibus):                  0.000   Jarque-Bera (JB):             5630.450\n",
      "Skew:                          -1.426   Prob(JB):                         0.00\n",
      "Kurtosis:                      18.866   Cond. No.                         975.\n",
      "==============================================================================\n",
      "\n",
      "Notes:\n",
      "[1] Standard Errors assume that the covariance matrix of the errors is correctly specified.\n"
     ]
    }
   ],
   "source": [
    "#The tested equation is EURCZK[t]-EURCZK[t-1]=const+coef(EURCZK[t-1])+noise \n",
    "\n",
    "\n",
    "#We need the EURCZK[t-1]\n",
    "\n",
    "eurczk_shift=eurczk['Close'].shift(-1)\n",
    "eurczk_shift=eurczk_shift[1:]\n",
    "eurczk_shift\n",
    "\n",
    "#Lets delete the first column, as it is NaN for the shifted EURCZK[t-1]\n",
    "\n",
    "eurczk=eurczk['Close'][1:]\n",
    "\n",
    "#Lets do the diff (the first part of the above equation)\n",
    "\n",
    "eurczk_diff=eurczk-eurczk_shift\n",
    "\n",
    "\n",
    "#Dataframe\n",
    "\n",
    "df = pd.DataFrame({\n",
    "        'eurczk_diff':eurczk_diff,\n",
    "        'eurczk_shift':eurczk_shift\n",
    "        \n",
    "        })\n",
    "\n",
    "df = df.dropna(axis=0)\n",
    "\n",
    "\n",
    "#Linear regression\n",
    "\n",
    "df[\"const\"]=1\n",
    "\n",
    "reg1 = sm.OLS(endog=df['eurczk_diff'], exog=df[['const', 'eurczk_shift']], \\\n",
    "    missing='drop')\n",
    "type(reg1)\n",
    "\n",
    "\n",
    "results = reg1.fit()\n",
    "print(results.summary())"
   ]
  },
  {
   "cell_type": "markdown",
   "id": "ee121a50",
   "metadata": {},
   "source": [
    "Jak je vidět z tabulky, coef je -0.137. Tento výsledek indukuje náhodnou procházku, protože je blízko nule. Další část tento test provádí výpočtem. "
   ]
  },
  {
   "cell_type": "code",
   "execution_count": 5,
   "id": "837456a1",
   "metadata": {},
   "outputs": [
    {
     "name": "stdout",
     "output_type": "stream",
     "text": [
      "\n",
      "p-value: 0.10733472040521091\n",
      "The time series EURCZK=X is a random walk, because the pvalue is higher than 0.05\n"
     ]
    }
   ],
   "source": [
    "results = adfuller(eurczk)\n",
    "\n",
    "result=\"\"\n",
    "\n",
    "if results[1]>0.05:\n",
    "  result=\"is a random walk\"\n",
    "else:\n",
    "  result=\"is not a random walk\"\n",
    "\n",
    "\n",
    "print(\"\")\n",
    "\n",
    "print(f\"p-value: {results[1]}\")\n",
    "print(f\"The time series {yfinance_ticker} {result}, because the pvalue is higher than 0.05\")\n",
    "#If p value is higher then 0.05, then TS is RW"
   ]
  },
  {
   "cell_type": "markdown",
   "id": "a60339ac",
   "metadata": {},
   "source": [
    "Because the pvalue is greater than 0.05, we confirm our previous assumption that the process meets the conditions of a random walk. "
   ]
  },
  {
   "cell_type": "markdown",
   "id": "dd5f2356",
   "metadata": {},
   "source": [
    "## Other CE currencies "
   ]
  },
  {
   "cell_type": "markdown",
   "id": "058d31fb",
   "metadata": {},
   "source": [
    "This section tests a random walk for the other two CE currencies, EURPLN and EURHUF. "
   ]
  },
  {
   "cell_type": "code",
   "execution_count": 6,
   "id": "33d0b883",
   "metadata": {},
   "outputs": [
    {
     "name": "stdout",
     "output_type": "stream",
     "text": [
      "[*********************100%***********************]  1 of 1 completed\n",
      "\n",
      "p-value: 0.24\n",
      "The time series EURPLN=X is a random walk, because the pvalue is higher than 0.05\n",
      "\n",
      "[*********************100%***********************]  1 of 1 completed\n",
      "\n",
      "p-value: 0.12\n",
      "The time series EURHUF=X is a random walk, because the pvalue is higher than 0.05\n",
      "\n"
     ]
    }
   ],
   "source": [
    "yfinance_tickers = ['EURPLN=X','EURHUF=X']\n",
    "\n",
    "for ticker in yfinance_tickers:\n",
    "\n",
    "    data=yf.download(ticker, start=start_date)\n",
    "    \n",
    "    data=data[\"Close\"]\n",
    "\n",
    "    results = adfuller(data)\n",
    "\n",
    "    result=\"\"\n",
    "\n",
    "    if results[1]>0.05:\n",
    "      result=\"is a random walk\"\n",
    "    else:\n",
    "      result=\"is not a random walk\"\n",
    "\n",
    "\n",
    "    print(\"\")\n",
    "\n",
    "    print(f\"p-value: {round(results[1],2)}\")\n",
    "    print(f\"The time series {ticker} {result}, because the pvalue is higher than 0.05\")\n",
    "\n",
    "    print(\"\")"
   ]
  },
  {
   "cell_type": "markdown",
   "id": "6a494b42",
   "metadata": {},
   "source": [
    "This test proved that the development of all Central European currencies in the last two years is a process of random walk. "
   ]
  },
  {
   "cell_type": "markdown",
   "id": "5a8ace78",
   "metadata": {},
   "source": [
    "This presentation is for informational purposes only and does not constitute an offer to sell, a solicitation to buy, or a recommendation for any security; nor does it constitute an offer to provide investment advisory or other services. Nothing contained herein constitutes investment advice or offers any opinion with respect to the suitability of any security, and any views expressed herein should not be taken as advice to buy, sell, or hold any security or as an endorsement of any security or company. In preparing the information contained herein, author has not taken into account the investment needs, objectives, and financial circumstances of any particular investor. Any views expressed and data illustrated herein were prepared based upon information, believed to be reliable, freely availible at the time of publication. Author makes no guarantees as to their accuracy or completeness. All information is subject to change and may quickly become unreliable for various reasons, including changes in market conditions or economic circumstances."
   ]
  }
 ],
 "metadata": {
  "kernelspec": {
   "display_name": "Python 3",
   "language": "python",
   "name": "python3"
  },
  "language_info": {
   "codemirror_mode": {
    "name": "ipython",
    "version": 3
   },
   "file_extension": ".py",
   "mimetype": "text/x-python",
   "name": "python",
   "nbconvert_exporter": "python",
   "pygments_lexer": "ipython3",
   "version": "3.8.8"
  }
 },
 "nbformat": 4,
 "nbformat_minor": 5
}
