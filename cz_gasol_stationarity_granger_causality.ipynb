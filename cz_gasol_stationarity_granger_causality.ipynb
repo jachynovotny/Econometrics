{
 "cells": [
  {
   "cell_type": "markdown",
   "metadata": {},
   "source": [
    "# Gasoline Czech Republic/Brent - stationarity and Granger causality "
   ]
  },
  {
   "cell_type": "markdown",
   "metadata": {},
   "source": [
    "This notebook analyse stationarity and Granger causality. Analysed time series are Gasoline Czech Republic and Brent. For the Granger causality, the analysed hyphothesis is that there is causality from Brent to Gasoline CZ.\n",
    "\n",
    "Used data are from widely available sources."
   ]
  },
  {
   "cell_type": "code",
   "execution_count": 1,
   "metadata": {},
   "outputs": [],
   "source": [
    "from matplotlib import pyplot\n",
    "import pandas as pd\n",
    "import numpy as np\n",
    "\n",
    "import statsmodels.api as sm\n",
    "from statsmodels.tsa.stattools import adfuller\n",
    "from statsmodels.tsa.api import VAR\n",
    "from statsmodels.tsa.stattools import grangercausalitytests\n",
    "\n",
    "from pandas import read_excel"
   ]
  },
  {
   "cell_type": "code",
   "execution_count": 2,
   "metadata": {},
   "outputs": [],
   "source": [
    "df = read_excel('cz_gasol_lr.xlsx', sheet_name ='LR gasoline')\n",
    "df.set_index(df['Date'],inplace=True)\n",
    "df.index = pd.to_datetime(df.index).date\n",
    "\n",
    "del df['Date']\n",
    "df=df.dropna()"
   ]
  },
  {
   "cell_type": "code",
   "execution_count": 3,
   "metadata": {},
   "outputs": [
    {
     "data": {
      "text/html": [
       "<div>\n",
       "<style scoped>\n",
       "    .dataframe tbody tr th:only-of-type {\n",
       "        vertical-align: middle;\n",
       "    }\n",
       "\n",
       "    .dataframe tbody tr th {\n",
       "        vertical-align: top;\n",
       "    }\n",
       "\n",
       "    .dataframe thead th {\n",
       "        text-align: right;\n",
       "    }\n",
       "</style>\n",
       "<table border=\"1\" class=\"dataframe\">\n",
       "  <thead>\n",
       "    <tr style=\"text-align: right;\">\n",
       "      <th></th>\n",
       "      <th>Gasoline Czech Republic</th>\n",
       "      <th>Brent</th>\n",
       "    </tr>\n",
       "  </thead>\n",
       "  <tbody>\n",
       "    <tr>\n",
       "      <th>2010-01-01</th>\n",
       "      <td>1.1200</td>\n",
       "      <td>584.17</td>\n",
       "    </tr>\n",
       "    <tr>\n",
       "      <th>2010-02-01</th>\n",
       "      <td>1.1700</td>\n",
       "      <td>565.92</td>\n",
       "    </tr>\n",
       "    <tr>\n",
       "      <th>2010-03-01</th>\n",
       "      <td>1.2300</td>\n",
       "      <td>603.72</td>\n",
       "    </tr>\n",
       "    <tr>\n",
       "      <th>2010-04-01</th>\n",
       "      <td>1.2600</td>\n",
       "      <td>649.22</td>\n",
       "    </tr>\n",
       "    <tr>\n",
       "      <th>2010-05-01</th>\n",
       "      <td>1.2700</td>\n",
       "      <td>587.05</td>\n",
       "    </tr>\n",
       "    <tr>\n",
       "      <th>...</th>\n",
       "      <td>...</td>\n",
       "      <td>...</td>\n",
       "    </tr>\n",
       "    <tr>\n",
       "      <th>2020-03-01</th>\n",
       "      <td>1.1000</td>\n",
       "      <td>264.83</td>\n",
       "    </tr>\n",
       "    <tr>\n",
       "      <th>2020-04-01</th>\n",
       "      <td>0.9498</td>\n",
       "      <td>221.05</td>\n",
       "    </tr>\n",
       "    <tr>\n",
       "      <th>2020-05-01</th>\n",
       "      <td>0.9548</td>\n",
       "      <td>247.78</td>\n",
       "    </tr>\n",
       "    <tr>\n",
       "      <th>2020-06-01</th>\n",
       "      <td>0.9916</td>\n",
       "      <td>306.32</td>\n",
       "    </tr>\n",
       "    <tr>\n",
       "      <th>2020-07-01</th>\n",
       "      <td>1.0600</td>\n",
       "      <td>325.58</td>\n",
       "    </tr>\n",
       "  </tbody>\n",
       "</table>\n",
       "<p>127 rows × 2 columns</p>\n",
       "</div>"
      ],
      "text/plain": [
       "            Gasoline Czech Republic   Brent\n",
       "2010-01-01                   1.1200  584.17\n",
       "2010-02-01                   1.1700  565.92\n",
       "2010-03-01                   1.2300  603.72\n",
       "2010-04-01                   1.2600  649.22\n",
       "2010-05-01                   1.2700  587.05\n",
       "...                             ...     ...\n",
       "2020-03-01                   1.1000  264.83\n",
       "2020-04-01                   0.9498  221.05\n",
       "2020-05-01                   0.9548  247.78\n",
       "2020-06-01                   0.9916  306.32\n",
       "2020-07-01                   1.0600  325.58\n",
       "\n",
       "[127 rows x 2 columns]"
      ]
     },
     "execution_count": 3,
     "metadata": {},
     "output_type": "execute_result"
    }
   ],
   "source": [
    "df"
   ]
  },
  {
   "cell_type": "code",
   "execution_count": 4,
   "metadata": {},
   "outputs": [],
   "source": [
    "def check_for_stationarity(X, cutoff=0.05):\n",
    "    \n",
    "    # H_0 in adfuller is unit root exists (non-stationary)\n",
    "    \n",
    "    pvalue = adfuller(X)[1]\n",
    "    if pvalue < cutoff:\n",
    "        print(f\"{X.name} is likely stationary (selected cutoff is {cutoff})\") \n",
    "        \n",
    "    else:\n",
    "        print(f\"{X.name} is likely non-stationary (selected cutoff is {cutoff})\") "
   ]
  },
  {
   "cell_type": "code",
   "execution_count": 5,
   "metadata": {},
   "outputs": [
    {
     "name": "stdout",
     "output_type": "stream",
     "text": [
      "Brent is likely non-stationary (selected cutoff is 0.05)\n",
      "Gasoline Czech Republic is likely non-stationary (selected cutoff is 0.05)\n"
     ]
    }
   ],
   "source": [
    "commodity_list=['Brent','Gasoline Czech Republic']\n",
    "\n",
    "for commodity in commodity_list:\n",
    "    check_for_stationarity(df[commodity])"
   ]
  },
  {
   "cell_type": "code",
   "execution_count": 6,
   "metadata": {},
   "outputs": [
    {
     "name": "stdout",
     "output_type": "stream",
     "text": [
      "Brent is likely stationary (selected cutoff is 0.05)\n",
      "Gasoline Czech Republic is likely stationary (selected cutoff is 0.05)\n"
     ]
    }
   ],
   "source": [
    "#Because both of our time series are not stationary, lets do the first difference\n",
    "\n",
    "df=df.diff().dropna()\n",
    "\n",
    "#Now lets check stacionarity of differenced data\n",
    "\n",
    "for commodity in commodity_list:\n",
    "    check_for_stationarity(df[commodity])    "
   ]
  },
  {
   "cell_type": "code",
   "execution_count": 7,
   "metadata": {},
   "outputs": [
    {
     "name": "stdout",
     "output_type": "stream",
     "text": [
      "\n",
      "Granger Causality\n",
      "number of lags (no zero) 1\n",
      "ssr based F test:         F=40.5901 , p=0.0000  , df_denom=122, df_num=1\n",
      "ssr based chi2 test:   chi2=41.5882 , p=0.0000  , df=1\n",
      "likelihood ratio test: chi2=35.9014 , p=0.0000  , df=1\n",
      "parameter F test:         F=40.5901 , p=0.0000  , df_denom=122, df_num=1\n"
     ]
    }
   ],
   "source": [
    "#Because both time series are now stationary, lets do the test of Granger causality\n",
    "\n",
    "gc_results = grangercausalitytests(df, [1])"
   ]
  },
  {
   "cell_type": "markdown",
   "metadata": {},
   "source": [
    "Because pvalue of ssr indicator based on F and chi2 tests is lower than cutoff, we can say that there is Granger causality from the commodity in the second column in our df (Brent) to the commodity in the first column (petrol Czech Republic) "
   ]
  },
  {
   "cell_type": "markdown",
   "metadata": {},
   "source": [
    "This presentation is for informational purposes only and does not constitute an offer to sell, a solicitation to buy, or a recommendation for any security; nor does it constitute an offer to provide investment advisory or other services. Nothing contained herein constitutes investment advice or offers any opinion with respect to the suitability of any security, and any views expressed herein should not be taken as advice to buy, sell, or hold any security or as an endorsement of any security or company. In preparing the information contained herein, author has not taken into account the investment needs, objectives, and financial circumstances of any particular investor. Any views expressed and data illustrated herein were prepared based upon information, believed to be reliable, freely availible at the time of publication. Author makes no guarantees as to their accuracy or completeness. All information is subject to change and may quickly become unreliable for various reasons, including changes in market conditions or economic circumstances."
   ]
  }
 ],
 "metadata": {
  "kernelspec": {
   "display_name": "Python 3",
   "language": "python",
   "name": "python3"
  },
  "language_info": {
   "codemirror_mode": {
    "name": "ipython",
    "version": 3
   },
   "file_extension": ".py",
   "mimetype": "text/x-python",
   "name": "python",
   "nbconvert_exporter": "python",
   "pygments_lexer": "ipython3",
   "version": "3.7.1"
  }
 },
 "nbformat": 4,
 "nbformat_minor": 2
}
